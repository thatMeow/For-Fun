{
 "cells": [
  {
   "cell_type": "code",
   "execution_count": null,
   "metadata": {
    "collapsed": false
   },
   "outputs": [
    {
     "name": "stdout",
     "output_type": "stream",
     "text": [
      "Enter a word:attitude\n",
      "['a', 't', 't', 'i', 't', 'u', 'd', 'e']\n",
      "[1, 20, 20, 9, 20, 21, 4, 5]\n",
      "100\n",
      "Enter a word:money\n",
      "['m', 'o', 'n', 'e', 'y']\n",
      "[13, 15, 14, 5, 25]\n",
      "72\n",
      "Enter a word:happy\n",
      "['h', 'a', 'p', 'p', 'y']\n",
      "[8, 1, 16, 16, 25]\n",
      "66\n"
     ]
    }
   ],
   "source": [
    "#!/usr/bin/env python3\n",
    "# -*- coding: utf-8 -*-\n",
    "while True:\n",
    "    reply = raw_input('Enter a word:')\n",
    "    reply = str(reply)\n",
    "    s2 = list(reply.lower())\n",
    "    s4 = []\n",
    "    print(s2)\n",
    "    a = 0\n",
    "    for letter in s2:\n",
    "        a = int(a) + int(ord(letter))\n",
    "        s4.append(ord(letter)-96)\n",
    "    a = int(a) - (96 * len(s2))\n",
    "    print(s4)\n",
    "    print \"The score for this word is: \"(a)\n",
    "\n"
   ]
  },
  {
   "cell_type": "code",
   "execution_count": null,
   "metadata": {
    "collapsed": true
   },
   "outputs": [],
   "source": []
  }
 ],
 "metadata": {
  "kernelspec": {
   "display_name": "Python 2",
   "language": "python",
   "name": "python2"
  },
  "language_info": {
   "codemirror_mode": {
    "name": "ipython",
    "version": 2
   },
   "file_extension": ".py",
   "mimetype": "text/x-python",
   "name": "python",
   "nbconvert_exporter": "python",
   "pygments_lexer": "ipython2",
   "version": "2.7.13"
  }
 },
 "nbformat": 4,
 "nbformat_minor": 2
}
