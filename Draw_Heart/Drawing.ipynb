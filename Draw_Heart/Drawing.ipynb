{
 "cells": [
  {
   "cell_type": "code",
   "execution_count": null,
   "metadata": {
    "collapsed": true
   },
   "outputs": [],
   "source": []
  },
  {
   "cell_type": "code",
   "execution_count": 8,
   "metadata": {
    "collapsed": false
   },
   "outputs": [
    {
     "name": "stdout",
     "output_type": "stream",
     "text": [
      "                                                            \n",
      "                                                            \n",
      "                                                            \n",
      "                ohee Jooh           oohee Joo               \n",
      "             Joohee Joohee Jo   e Joohee Joohee J           \n",
      "          e Joohee Joohee Joohee Joohee Joohee Jooh         \n",
      "         e Joohee Joohee Joohee Joohee Joohee Joohee        \n",
      "        e Joohee Joohee Joohee Joohee Joohee Joohee J       \n",
      "         Joohee Joohee Joohee Joohee Joohee Joohee Jo       \n",
      "        Joohee Joohee Joohee Joohee Joohee Joohee Joo       \n",
      "        oohee Joohee Joohee Joohee Joohee Joohee Jooh       \n",
      "        ohee Joohee Joohee Joohee Joohee Joohee Joohe       \n",
      "        hee Joohee Joohee Joohee Joohee Joohee Joohee       \n",
      "         e Joohee Joohee Joohee Joohee Joohee Joohee        \n",
      "          Joohee Joohee Joohee Joohee Joohee Joohee         \n",
      "          oohee Joohee Joohee Joohee Joohee Joohee          \n",
      "            ee Joohee Joohee Joohee Joohee Joohee           \n",
      "              Joohee Joohee Joohee Joohee Joohee            \n",
      "              oohee Joohee Joohee Joohee Joohee             \n",
      "                ee Joohee Joohee Joohee Joohe               \n",
      "                  Joohee Joohee Joohee Jooh                 \n",
      "                    hee Joohee Joohee Joo                   \n",
      "                       Joohee Joohee J                      \n",
      "                          ee Joohee                         \n",
      "                             ooh                            \n",
      "                              h                             \n",
      "                                                            \n",
      "                                                            \n",
      "                                                            \n",
      "                                                            \n"
     ]
    }
   ],
   "source": [
    "print'\\n'.join([''.join([('Joohee '[(x-y)%7]if((x*0.05)**2+(y*0.1)**2-1)**3-(x*0.05)**2*(y*0.1)**3<=0 else' ')for x in range(-30,30)])for y in range(15,-15,-1)])"
   ]
  },
  {
   "cell_type": "code",
   "execution_count": null,
   "metadata": {
    "collapsed": true
   },
   "outputs": [],
   "source": []
  }
 ],
 "metadata": {
  "kernelspec": {
   "display_name": "Python 2",
   "language": "python",
   "name": "python2"
  },
  "language_info": {
   "codemirror_mode": {
    "name": "ipython",
    "version": 2
   },
   "file_extension": ".py",
   "mimetype": "text/x-python",
   "name": "python",
   "nbconvert_exporter": "python",
   "pygments_lexer": "ipython2",
   "version": "2.7.13"
  }
 },
 "nbformat": 4,
 "nbformat_minor": 2
}
